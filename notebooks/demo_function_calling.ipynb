{
 "cells": [
  {
   "cell_type": "code",
   "execution_count": null,
   "id": "4511f864-689f-4259-988b-b8508589ba5d",
   "metadata": {},
   "outputs": [],
   "source": [
    "from openai import OpenAI\n",
    "import json"
   ]
  },
  {
   "cell_type": "code",
   "execution_count": null,
   "id": "afd1b566-1120-4bb2-9de3-36bf4c21c9ab",
   "metadata": {},
   "outputs": [],
   "source": []
  },
  {
   "cell_type": "code",
   "execution_count": null,
   "id": "8574c51d-ee9e-456d-8efa-99f6eee78163",
   "metadata": {},
   "outputs": [],
   "source": [
    "client = OpenAI()"
   ]
  },
  {
   "cell_type": "code",
   "execution_count": null,
   "id": "ac317cf0-a429-445b-a9ef-6980b869e89a",
   "metadata": {},
   "outputs": [],
   "source": []
  },
  {
   "cell_type": "code",
   "execution_count": null,
   "id": "aaa74d2f-ac40-48be-bb7f-8162e2566db9",
   "metadata": {},
   "outputs": [],
   "source": [
    "student_1_description = \"\"\"\n",
    "David Nguyen is a sophomore majoring in computer science at Stanford University. \n",
    "He is Asian American and has a 3.8 GPA. \n",
    "David is known for his programming skills and is an active member of the university's Robotics Club. \n",
    "He hopes to pursue a career in artificial intelligence after graduating.\"\"\""
   ]
  },
  {
   "cell_type": "code",
   "execution_count": null,
   "id": "f545eca2-7bc4-49fd-bb2c-d77de115bbd3",
   "metadata": {},
   "outputs": [],
   "source": [
    "# A simple prompt to extract information from \"student_description\" in a JSON format.\n",
    "prompt1 = f'''\n",
    "Please extract the following information from the given text and return it as a JSON object:\n",
    "\n",
    "name\n",
    "major\n",
    "school\n",
    "grades\n",
    "club\n",
    "\n",
    "This is the body of text to extract the information from:\n",
    "{student_1_description}\n",
    "'''"
   ]
  },
  {
   "cell_type": "code",
   "execution_count": null,
   "id": "29d85187-f6c9-4085-ba34-f243a4887d07",
   "metadata": {},
   "outputs": [],
   "source": [
    "prompt1"
   ]
  },
  {
   "cell_type": "code",
   "execution_count": null,
   "id": "3a2407d6-3cb6-4f77-9c34-8cd9412c06cc",
   "metadata": {},
   "outputs": [],
   "source": []
  },
  {
   "cell_type": "code",
   "execution_count": null,
   "id": "55ae593c-4de3-4c85-b4f2-42f07f5462bb",
   "metadata": {},
   "outputs": [],
   "source": [
    "openai_response = client.chat.completions.create(\n",
    "    model = 'gpt-3.5-turbo',\n",
    "    messages = [{'role': 'user', 'content': prompt1}]\n",
    ")\n",
    "openai_response.choices[0].message.content"
   ]
  },
  {
   "cell_type": "code",
   "execution_count": null,
   "id": "80a64051-9554-4500-a18a-0fcc2c05745c",
   "metadata": {},
   "outputs": [],
   "source": [
    "json_response = json.loads(openai_response.choices[0].message.content)\n",
    "json_response"
   ]
  },
  {
   "cell_type": "code",
   "execution_count": null,
   "id": "7c60b14d-2deb-4e77-9731-febebf0d14a6",
   "metadata": {},
   "outputs": [],
   "source": []
  },
  {
   "cell_type": "code",
   "execution_count": null,
   "id": "32d5b01d-a449-4b8c-b2c9-b4f557414f15",
   "metadata": {},
   "outputs": [],
   "source": [
    "student_2_description=\"\"\"\n",
    "Ravi Patel is a sophomore majoring in computer science at the University of Michigan. \n",
    "He is South Asian Indian American and has a 3.7 GPA. \n",
    "Ravi is an active member of the university's Chess Club and the South Asian Student Association. \n",
    "He hopes to pursue a career in software engineering after graduating.\"\"\""
   ]
  },
  {
   "cell_type": "code",
   "execution_count": null,
   "id": "2bda4b03-cacc-406f-9f27-1477c3b8e211",
   "metadata": {},
   "outputs": [],
   "source": [
    "prompt2 = f'''\n",
    "Please extract the following information from the given text and return it as a JSON object:\n",
    "\n",
    "name\n",
    "major\n",
    "school\n",
    "grades\n",
    "club\n",
    "\n",
    "This is the body of text to extract the information from:\n",
    "{student_2_description}\n",
    "'''"
   ]
  },
  {
   "cell_type": "code",
   "execution_count": null,
   "id": "e4659eee-c2ed-4c03-af4b-636c89b5dc50",
   "metadata": {},
   "outputs": [],
   "source": [
    "prompt2"
   ]
  },
  {
   "cell_type": "code",
   "execution_count": null,
   "id": "128562f9-a657-4df7-9e76-fbf3c6e3d025",
   "metadata": {},
   "outputs": [],
   "source": []
  },
  {
   "cell_type": "code",
   "execution_count": null,
   "id": "72628064-ddbc-48d6-9089-54a27248846d",
   "metadata": {},
   "outputs": [],
   "source": []
  },
  {
   "cell_type": "code",
   "execution_count": null,
   "id": "f66d4f21-6714-406f-9257-1825c64f1008",
   "metadata": {},
   "outputs": [],
   "source": [
    "openai_response_2 = client.chat.completions.create(\n",
    "    model = 'gpt-3.5-turbo',\n",
    "    messages = [{'role': 'user', 'content': prompt2}]\n",
    ")\n",
    "openai_response_2.choices[0].message.content"
   ]
  },
  {
   "cell_type": "code",
   "execution_count": null,
   "id": "0e6e5448-1d37-4ab0-80e0-54bc44d680cd",
   "metadata": {},
   "outputs": [],
   "source": [
    "json_response = json.loads(openai_response_2.choices[0].message.content)\n",
    "json_response"
   ]
  },
  {
   "cell_type": "code",
   "execution_count": null,
   "id": "abc0787e-5f74-4ae9-a606-b18665c451c0",
   "metadata": {},
   "outputs": [],
   "source": []
  },
  {
   "cell_type": "code",
   "execution_count": null,
   "id": "30d78e5e-8e8c-4a8d-bc66-1c1e340ded8b",
   "metadata": {},
   "outputs": [],
   "source": []
  },
  {
   "cell_type": "code",
   "execution_count": null,
   "id": "9d041bc9-1d0c-497b-a34e-555bc51af958",
   "metadata": {},
   "outputs": [],
   "source": [
    "student_custom_functions = [\n",
    "    {\n",
    "        'name': 'extract_student_info',\n",
    "        'description': 'Get the student information from the body of the input text',\n",
    "        'parameters': {\n",
    "            'type': 'object',\n",
    "            'properties': {\n",
    "                'name': {\n",
    "                    'type': 'string',\n",
    "                    'description': 'Name of the person'\n",
    "                },\n",
    "                'major': {\n",
    "                    'type': 'string',\n",
    "                    'description': 'Major subject.'\n",
    "                },\n",
    "                'school': {\n",
    "                    'type': 'string',\n",
    "                    'description': 'The university name.'\n",
    "                },\n",
    "                'grades': {\n",
    "                    'type': 'integer',\n",
    "                    'description': 'GPA of the student.'\n",
    "                },\n",
    "                'club': {\n",
    "                    'type': 'string',\n",
    "                    'description': 'School club for extracurricular activities. '\n",
    "                }\n",
    "                \n",
    "            }\n",
    "        }\n",
    "    }\n",
    "]"
   ]
  },
  {
   "cell_type": "code",
   "execution_count": null,
   "id": "25413845-3e71-455b-9ead-feae11ed4ff5",
   "metadata": {},
   "outputs": [],
   "source": [
    "sample"
   ]
  },
  {
   "cell_type": "code",
   "execution_count": null,
   "id": "44378455-7445-49bf-a02f-178541a9c5de",
   "metadata": {},
   "outputs": [],
   "source": [
    "student_description = [prompt1, prompt2]\n",
    "for sample in student_description:\n",
    "    response = client.chat.completions.create(\n",
    "        model = 'gpt-3.5-turbo',\n",
    "        messages = [{'role': 'user', 'content': sample}],\n",
    "        functions = student_custom_functions,\n",
    "        function_call = 'auto'\n",
    "    )\n",
    "    json_response = json.loads(response.choices[0].message.function_call.arguments)\n",
    "    print(json_response)"
   ]
  },
  {
   "cell_type": "code",
   "execution_count": null,
   "id": "5c77d232-0b44-4b32-bdd1-5fdafe012eba",
   "metadata": {},
   "outputs": [],
   "source": []
  },
  {
   "cell_type": "code",
   "execution_count": null,
   "id": "09e2db28-e873-417a-90e2-82ff1c7a1480",
   "metadata": {},
   "outputs": [],
   "source": []
  }
 ],
 "metadata": {
  "jupytext": {
   "formats": "ipynb,md"
  },
  "kernelspec": {
   "display_name": "Python 3 (ipykernel)",
   "language": "python",
   "name": "python3"
  },
  "language_info": {
   "codemirror_mode": {
    "name": "ipython",
    "version": 3
   },
   "file_extension": ".py",
   "mimetype": "text/x-python",
   "name": "python",
   "nbconvert_exporter": "python",
   "pygments_lexer": "ipython3",
   "version": "3.9.18"
  }
 },
 "nbformat": 4,
 "nbformat_minor": 5
}
