{
 "cells": [
  {
   "cell_type": "code",
   "execution_count": null,
   "id": "4bbefdb6-84b1-4b21-89e7-106ce25fe657",
   "metadata": {},
   "outputs": [],
   "source": [
    "from langchain.agents.openai_assistant import OpenAIAssistantRunnable\n",
    "from openai import OpenAI"
   ]
  },
  {
   "cell_type": "code",
   "execution_count": null,
   "id": "afa8ef05-fc47-4de6-93f9-7af67de1fb3d",
   "metadata": {},
   "outputs": [],
   "source": [
    "import yaml\n",
    "\n",
    "with open(\"../config/config.yml\", \"r\") as stream:\n",
    "    try:\n",
    "        config = yaml.safe_load(stream)\n",
    "    except yaml.YAMLError as exc:\n",
    "        print(exc)"
   ]
  },
  {
   "cell_type": "code",
   "execution_count": null,
   "id": "5863d6f0-7621-40d4-9ef4-46f17fb83d51",
   "metadata": {},
   "outputs": [],
   "source": []
  },
  {
   "cell_type": "markdown",
   "id": "0d5c95b8-909a-4453-961c-2cb74393cf70",
   "metadata": {},
   "source": [
    "## Parameters"
   ]
  },
  {
   "cell_type": "code",
   "execution_count": null,
   "id": "065e0d56-a2f5-4690-9c4e-2e1b3b4e2bb7",
   "metadata": {},
   "outputs": [],
   "source": [
    "to_cleanup = False\n",
    "to_reset_agents = False\n",
    "to_reset_thread = False\n",
    "\n",
    "assistant_id = config[\"general_config\"][\"openai_config\"][\"assistant_id\"]\n",
    "file_id = config[\"general_config\"][\"openai_config\"][\"file_id\"]\n",
    "thread_id = config[\"general_config\"][\"openai_config\"][\"thread_id\"]\n",
    "\n",
    "knowledge_file = config[\"general_config\"][\"openai_config\"][\"knowledge_file\"]\n",
    "description = config[\"general_config\"][\"openai_config\"][\"description\"]\n",
    "instructions = config[\"general_config\"][\"openai_config\"][\"instructions\"]"
   ]
  },
  {
   "cell_type": "code",
   "execution_count": null,
   "id": "12217871-2606-4c75-a030-93ce02316fcc",
   "metadata": {},
   "outputs": [],
   "source": []
  },
  {
   "cell_type": "code",
   "execution_count": null,
   "id": "a8b979fb",
   "metadata": {},
   "outputs": [],
   "source": [
    "client = OpenAI()"
   ]
  },
  {
   "cell_type": "code",
   "execution_count": null,
   "id": "68ddfb8c-73ef-4f10-8ad8-b43c0c41897f",
   "metadata": {},
   "outputs": [],
   "source": [
    "def get_messages(thread, run=None):\n",
    "    if run is not None:\n",
    "        run = client.beta.threads.runs.retrieve(\n",
    "          thread_id=thread.id,\n",
    "          run_id=run.id\n",
    "        )\n",
    "    \n",
    "    if run is not None or \\\n",
    "       run.status == \"completed\":\n",
    "        \n",
    "        messages = client.beta.threads.messages.list(\n",
    "          thread_id=thread.id\n",
    "        )\n",
    "        for d in messages.data[::-1]:\n",
    "            print(d.role, \":\", d.content[0].text.value)\n",
    "            print(\"\")"
   ]
  },
  {
   "cell_type": "code",
   "execution_count": null,
   "id": "11fc10d3-07dd-4c81-ac78-4fb9c5d4d149",
   "metadata": {},
   "outputs": [],
   "source": []
  },
  {
   "cell_type": "code",
   "execution_count": null,
   "id": "4dd3c049-4a74-479c-b035-8fd8ca6f590e",
   "metadata": {},
   "outputs": [],
   "source": [
    "for d in client.beta.assistants.list().data:\n",
    "    print(d.id)\n",
    "    if to_cleanup:\n",
    "        client.beta.assistants.delete(assistant_id=d.id)"
   ]
  },
  {
   "cell_type": "code",
   "execution_count": null,
   "id": "1f9bf73a-e095-4638-8c02-79cda96096d0",
   "metadata": {},
   "outputs": [],
   "source": [
    "for d in client.files.list().data:\n",
    "    print(d.id)\n",
    "    if to_cleanup:\n",
    "        client.files.delete(file_id=d.id)"
   ]
  },
  {
   "cell_type": "code",
   "execution_count": null,
   "id": "a154be0b-cf59-43d9-8200-cb2e1ef18436",
   "metadata": {},
   "outputs": [],
   "source": []
  },
  {
   "cell_type": "code",
   "execution_count": null,
   "id": "a9dbfd69-bc4b-408a-b9cb-6969eb22a084",
   "metadata": {},
   "outputs": [],
   "source": [
    "if to_reset_agents:\n",
    "    file = client.files.create(\n",
    "      file=open(knowledge_file, \"rb\"),\n",
    "      purpose='assistants'\n",
    "    )"
   ]
  },
  {
   "cell_type": "code",
   "execution_count": null,
   "id": "8e6c560b-56ba-4abf-9128-0d26ce5d99fb",
   "metadata": {},
   "outputs": [],
   "source": [
    "if to_reset_agents:\n",
    "    print(file)"
   ]
  },
  {
   "cell_type": "code",
   "execution_count": null,
   "id": "c6681a05-7a3c-46c7-b228-d902d95204c6",
   "metadata": {},
   "outputs": [],
   "source": []
  },
  {
   "cell_type": "code",
   "execution_count": null,
   "id": "dc25ed6f-1dd7-4c6f-a0c3-f21980e168d5",
   "metadata": {},
   "outputs": [],
   "source": [
    "if to_reset_agents:\n",
    "    assistant = client.beta.assistants.create(\n",
    "                    name=\"Study assistant\",\n",
    "                    description=description,\n",
    "                    instructions=instructions,\n",
    "                    model=config[\"general_config\"][\"openai_config\"][\"cutting_edge_model\"],\n",
    "                    tools=[{\"type\": \"retrieval\"}],\n",
    "                    file_ids=[file.id]\n",
    "    )"
   ]
  },
  {
   "cell_type": "code",
   "execution_count": null,
   "id": "702d9806-1463-4233-bacb-bd83a91ad624",
   "metadata": {},
   "outputs": [],
   "source": [
    "if to_reset_agents:\n",
    "    print(assistant)"
   ]
  },
  {
   "cell_type": "code",
   "execution_count": null,
   "id": "4856e1be-189d-4e7d-9158-1ea33a6974b7",
   "metadata": {},
   "outputs": [],
   "source": []
  },
  {
   "cell_type": "code",
   "execution_count": null,
   "id": "c22986ea-e0d6-4d3d-a691-aa9a842cd26d",
   "metadata": {},
   "outputs": [],
   "source": [
    "if to_reset_agents:\n",
    "    assistant_id = assistant.id\n",
    "    file_id = file.id\n",
    "else:\n",
    "    assistant = client.beta.assistants.retrieve(assistant_id=assistant_id)\n",
    "    file = client.files.retrieve(file_id=file_id)"
   ]
  },
  {
   "cell_type": "code",
   "execution_count": null,
   "id": "4c5d72e2-c73a-4974-859b-c9ca556de418",
   "metadata": {},
   "outputs": [],
   "source": []
  },
  {
   "cell_type": "code",
   "execution_count": null,
   "id": "6eb1f3fe-9433-46f0-abbd-0ef14a6a009e",
   "metadata": {},
   "outputs": [],
   "source": [
    "if to_reset_thread:\n",
    "    thread = client.beta.threads.create(\n",
    "      messages=[\n",
    "        {\n",
    "          \"role\": \"user\",\n",
    "          \"content\": \"Summarise knowledge base in 1 paragraph\"\n",
    "        }\n",
    "      ]\n",
    "    )"
   ]
  },
  {
   "cell_type": "code",
   "execution_count": null,
   "id": "b9fcfbe6-a8a9-440b-bf0a-98dd56af734b",
   "metadata": {},
   "outputs": [],
   "source": [
    "if to_reset_thread:\n",
    "    print(thread)"
   ]
  },
  {
   "cell_type": "code",
   "execution_count": null,
   "id": "8db83132-1a56-4349-b7fa-91fd815892f3",
   "metadata": {},
   "outputs": [],
   "source": [
    "if to_reset_thread:\n",
    "    thread_id = thread.id\n",
    "else:\n",
    "    thread = client.beta.threads.retrieve(thread_id=thread_id)"
   ]
  },
  {
   "cell_type": "code",
   "execution_count": null,
   "id": "34152a45-dc05-4d50-99c3-4dd48dd13cef",
   "metadata": {},
   "outputs": [],
   "source": []
  },
  {
   "cell_type": "code",
   "execution_count": null,
   "id": "8eee8197-9300-4cfe-8b83-be71cc2588d5",
   "metadata": {},
   "outputs": [],
   "source": [
    "messages = client.beta.threads.messages.list(\n",
    "  thread_id=thread.id\n",
    ")\n",
    "messages"
   ]
  },
  {
   "cell_type": "code",
   "execution_count": null,
   "id": "9cf793f9-875f-419b-9ec6-979a468b2099",
   "metadata": {},
   "outputs": [],
   "source": []
  },
  {
   "cell_type": "code",
   "execution_count": null,
   "id": "c73966d4-18b6-4cec-b6a4-c351d97ecc95",
   "metadata": {},
   "outputs": [],
   "source": []
  },
  {
   "cell_type": "code",
   "execution_count": null,
   "id": "036d5c0e-4eb7-4fc8-8a2c-231e36774281",
   "metadata": {},
   "outputs": [],
   "source": [
    "run = client.beta.threads.runs.create(\n",
    "  thread_id=thread.id,\n",
    "  assistant_id=assistant.id,\n",
    "  instructions=\"Please address the user as Mr. Bear. The user has a premium account.\"\n",
    ")"
   ]
  },
  {
   "cell_type": "code",
   "execution_count": null,
   "id": "53283e95-abd2-4403-a88a-cb7ac6344e4a",
   "metadata": {},
   "outputs": [],
   "source": [
    "get_messages(thread, run)"
   ]
  },
  {
   "cell_type": "code",
   "execution_count": null,
   "id": "e425b104-8cca-4e8a-84b7-4237bf02043a",
   "metadata": {},
   "outputs": [],
   "source": []
  },
  {
   "cell_type": "code",
   "execution_count": null,
   "id": "7b688954-62dd-40cb-984e-e91b3e8043aa",
   "metadata": {},
   "outputs": [],
   "source": [
    "message = client.beta.threads.messages.create(\n",
    "    thread_id=thread.id,\n",
    "    role=\"user\",\n",
    "    content=\"Please come up with a multiple choice questions with 4 options, only 1 is correct. Please do not reveal the answer yet\"\n",
    ")\n",
    "\n",
    "run = client.beta.threads.runs.create(\n",
    "  thread_id=thread.id,\n",
    "  assistant_id=assistant.id\n",
    ")"
   ]
  },
  {
   "cell_type": "code",
   "execution_count": null,
   "id": "4c6d7b9b-5176-4d13-b03e-9191a5037485",
   "metadata": {},
   "outputs": [],
   "source": [
    "get_messages(thread, run)"
   ]
  },
  {
   "cell_type": "code",
   "execution_count": null,
   "id": "d5d1ef04-0171-4ccc-9e4e-8770057ed639",
   "metadata": {},
   "outputs": [],
   "source": []
  },
  {
   "cell_type": "code",
   "execution_count": null,
   "id": "cf8f3e87-fc6a-475c-8ff7-24094f941e59",
   "metadata": {},
   "outputs": [],
   "source": [
    "message = client.beta.threads.messages.create(\n",
    "    thread_id=thread.id,\n",
    "    role=\"user\",\n",
    "    content=\"What is the answer of previous question\"\n",
    ")\n",
    "\n",
    "run = client.beta.threads.runs.create(\n",
    "  thread_id=thread.id,\n",
    "  assistant_id=assistant.id\n",
    ")"
   ]
  },
  {
   "cell_type": "code",
   "execution_count": null,
   "id": "240f7cd5-b66d-4733-80eb-29cfaf7d4bb3",
   "metadata": {},
   "outputs": [],
   "source": [
    "get_messages(thread, run)"
   ]
  },
  {
   "cell_type": "code",
   "execution_count": null,
   "id": "b8e84dc1-c647-4f5d-aa07-8c9734ad083e",
   "metadata": {},
   "outputs": [],
   "source": []
  }
 ],
 "metadata": {
  "jupytext": {
   "formats": "ipynb,md"
  },
  "kernelspec": {
   "display_name": "Python 3 (ipykernel)",
   "language": "python",
   "name": "python3"
  },
  "language_info": {
   "codemirror_mode": {
    "name": "ipython",
    "version": 3
   },
   "file_extension": ".py",
   "mimetype": "text/x-python",
   "name": "python",
   "nbconvert_exporter": "python",
   "pygments_lexer": "ipython3",
   "version": "3.9.18"
  }
 },
 "nbformat": 4,
 "nbformat_minor": 5
}
